{
 "cells": [
  {
   "cell_type": "code",
   "execution_count": 1,
   "metadata": {},
   "outputs": [],
   "source": [
    "import numpy as np\n",
    "import torch\n",
    "import torchvision\n",
    "import matplotlib.pyplot as plt"
   ]
  },
  {
   "cell_type": "code",
   "execution_count": 211,
   "metadata": {},
   "outputs": [],
   "source": [
    "# Creating a simple feedforward neuran network\n",
    "class FNN(torch.nn.Module):\n",
    "    def __init__(self):\n",
    "        torch.nn.Module.__init__(self)\n",
    "        \n",
    "        self.f1 = torch.nn.Linear(2,3)\n",
    "        #self.actfun1 = torch.nn.Sigmoid()\n",
    "        self.actfun1 = torch.nn.ReLU()\n",
    "        \n",
    "        self.f2 = torch.nn.Linear(3,2)\n",
    "        #self.actfun2 = torch.nn.Sigmoid()\n",
    "        self.actfun2 = torch.nn.ReLU()\n",
    "        \n",
    "        self.soft = torch.nn.Softmax(1)\n",
    "        \n",
    "    def forward(self,x):\n",
    "        o = self.f1(x)\n",
    "        o = self.actfun1(o)\n",
    "        o = self.f2(o)\n",
    "        #o = self.actfun2(o)\n",
    "        o = self.soft(o)\n",
    "        return o\n",
    "    \n",
    "    def train(self,train_dl,epochs=20):\n",
    "        opt = torch.optim.SGD(self.parameters(),lr=1)\n",
    "        #crit = torch.nn.MSELoss()\n",
    "        crit = torch.nn.CrossEntropyLoss()\n",
    "        tot_loss = []\n",
    "        for epoch in range(epochs):\n",
    "            s = 0\n",
    "            for i,(x,y) in enumerate(train_dl):\n",
    "                opt.zero_grad()\n",
    "                o = self.forward(x)\n",
    "                loss = crit(o,y)\n",
    "                s = s + loss\n",
    "                loss.backward()\n",
    "                opt.step()\n",
    "            tot_loss.append(s)\n",
    "        return tot_loss\n",
    "                \n",
    "            "
   ]
  },
  {
   "cell_type": "code",
   "execution_count": 103,
   "metadata": {},
   "outputs": [],
   "source": [
    "x_train = torch.Tensor([[0,0],[0,1],[1,0],[1,1]]).float()\n",
    "y_train = torch.Tensor([0,1,1,0]).long()\n",
    "#y_train = torch.Tensor([[1,0],[0,1],[0,1],[1,0]]).float()"
   ]
  },
  {
   "cell_type": "code",
   "execution_count": 104,
   "metadata": {},
   "outputs": [],
   "source": [
    "ds = torch.utils.data.TensorDataset(x_train,y_train)\n",
    "dl = torch.utils.data.DataLoader(ds,batch_size=4)"
   ]
  },
  {
   "cell_type": "code",
   "execution_count": 212,
   "metadata": {},
   "outputs": [
    {
     "data": {
      "text/plain": [
       "tensor([[0.6684, 0.3316],\n",
       "        [0.7070, 0.2930],\n",
       "        [0.6846, 0.3154],\n",
       "        [0.6843, 0.3157]], grad_fn=<SoftmaxBackward>)"
      ]
     },
     "execution_count": 212,
     "metadata": {},
     "output_type": "execute_result"
    }
   ],
   "source": [
    "model = FNN()\n",
    "model.forward(x_train)"
   ]
  },
  {
   "cell_type": "code",
   "execution_count": 213,
   "metadata": {},
   "outputs": [],
   "source": [
    "loss = model.train(dl,epochs=100)"
   ]
  },
  {
   "cell_type": "code",
   "execution_count": 216,
   "metadata": {},
   "outputs": [
    {
     "data": {
      "image/png": "[encoded data removed]",
      "text/plain": [
       "<Figure size 432x288 with 1 Axes>"
      ]
     },
     "metadata": {
      "needs_background": "light"
     },
     "output_type": "display_data"
    }
   ],
   "source": [
    "plt.plot(loss)\n",
    "plt.show()"
   ]
  },
  {
   "cell_type": "code",
   "execution_count": 217,
   "metadata": {},
   "outputs": [
    {
     "data": {
      "text/plain": [
       "tensor([[0.9246, 0.0754],\n",
       "        [0.2848, 0.7152],\n",
       "        [0.2898, 0.7102],\n",
       "        [0.2919, 0.7081]], grad_fn=<SoftmaxBackward>)"
      ]
     },
     "execution_count": 217,
     "metadata": {},
     "output_type": "execute_result"
    }
   ],
   "source": [
    "model.forward(x_train)"
   ]
  },
  {
   "cell_type": "code",
   "execution_count": null,
   "metadata": {},
   "outputs": [],
   "source": []
  }
 ],
 "metadata": {
  "kernelspec": {
   "display_name": "Python 3",
   "language": "python",
   "name": "python3"
  },
  "language_info": {
   "codemirror_mode": {
    "name": "ipython",
    "version": 3
   },
   "file_extension": ".py",
   "mimetype": "text/x-python",
   "name": "python",
   "nbconvert_exporter": "python",
   "pygments_lexer": "ipython3",
   "version": "3.8.5"
  }
 },
 "nbformat": 4,
 "nbformat_minor": 4
}
